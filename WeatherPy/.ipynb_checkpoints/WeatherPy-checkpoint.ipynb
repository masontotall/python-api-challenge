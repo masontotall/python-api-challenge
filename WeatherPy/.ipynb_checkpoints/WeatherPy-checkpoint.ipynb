{
 "cells": [
  {
   "cell_type": "markdown",
   "metadata": {},
   "source": [
    "Imports and File Paths"
   ]
  },
  {
   "cell_type": "code",
   "execution_count": null,
   "metadata": {},
   "outputs": [],
   "source": [
    "import matplotlib.pyplot as plt\n",
    "import pandas as pd\n",
    "import numpy as np\n",
    "import requests\n",
    "import time\n",
    "import json\n",
    "import scipy.stats as st\n",
    "from scipy.stats import linregress\n",
    "\n",
    "#Import API key\n",
    "\n",
    "from api_keys import weather_api_key\n",
    "\n",
    "\n",
    "#citipy\n",
    "\n",
    "\n",
    "from citipy import citipy\n",
    "\n",
    "\n",
    "\n",
    "# Range of latitudes and longitudes\n",
    "\n",
    "\n",
    "lat_range = (-90, 90)\n",
    "lng_range = (-180, 180)"
   ]
  },
  {
   "cell_type": "markdown",
   "metadata": {},
   "source": [
    "Generate list of cities with criteria"
   ]
  },
  {
   "cell_type": "code",
   "execution_count": null,
   "metadata": {},
   "outputs": [],
   "source": [
    "\n",
    "# List for holding lat amd lngs and cities\n",
    "\n",
    "\n",
    "lat_lngs = []\n",
    "cities = []\n",
    "\n",
    "\n",
    "\n",
    "# Create a set of random lat and lng combinations\n",
    "\n",
    "\n",
    "lats = np.random.uniform(low=-90.000, high=90.000, size=1500)\n",
    "lngs = np.random.uniform(low=-180.000, high=180.000, size=1500)\n",
    "lat_lngs = zip(lats, lngs)\n",
    "\n",
    "\n",
    "\n",
    "# Identify nearest city for each lat, lng combination and see if unique\n",
    "\n",
    "\n",
    "for lat_lng in lat_lngs:\n",
    "    city = citipy.nearest_city(lat_lng[0], lat_lng[1]).city_name\n",
    "    if city not in cities:\n",
    "        cities.append(city)"
   ]
  },
  {
   "cell_type": "code",
   "execution_count": null,
   "metadata": {},
   "outputs": [],
   "source": [
    "\n",
    "city_list = []\n",
    "cloudiness_list = []\n",
    "country_list = []\n",
    "date_list = []\n",
    "humidity_list = []\n",
    "lat_list = []\n",
    "lng_list = []\n",
    "maxtemp_list = []\n",
    "wind_list = []\n",
    "index_counter = 0\n",
    "set_counter = 1"
   ]
  },
  {
   "cell_type": "markdown",
   "metadata": {},
   "source": [
    "Perform API Calls and print a log of the cities"
   ]
  },
  {
   "cell_type": "code",
   "execution_count": null,
   "metadata": {},
   "outputs": [],
   "source": [
    "\n",
    "print(\"Beginning Data Retrieval \")\n",
    "print(\"-----------------------------\")\n",
    "\n",
    "base_url = \"http://api.openweathermap.org/data/2.5/weather?\"\n",
    "units = \"imperial\"\n",
    "query_url = f\"{base_url}appid={weather_api_key}&units={units}&q=\"\n",
    "\n",
    "\n",
    "# For each city name in cities list\n",
    "\n",
    "\n",
    "for index, city in enumerate(cities, start = 1):\n",
    "    try:\n",
    "        response = requests.get(query_url + city).json()\n",
    "        city_list.append(response[\"name\"])\n",
    "        cloudiness_list.append(response[\"clouds\"][\"all\"])\n",
    "        country_list.append(response[\"sys\"][\"country\"])\n",
    "        date_list.append(response[\"dt\"])\n",
    "        humidity_list.append(response[\"main\"][\"humidity\"])\n",
    "        lat_list.append(response[\"coord\"][\"lat\"])\n",
    "        lng_list.append(response[\"coord\"][\"lon\"])\n",
    "        maxtemp_list.append(response['main']['temp_max'])\n",
    "        wind_list.append(response[\"wind\"][\"speed\"])\n",
    "        if index_counter > 49:\n",
    "            index_counter = 0\n",
    "            set_counter = set_counter + 1\n",
    "    \n",
    "        else:\n",
    "            index_counter = index_counter + 1\n",
    "            \n",
    "        print(f\"Processing Record {index_counter} of Set {set_counter} : {city}\") \n",
    "  \n",
    "    except(KeyError, IndexError):\n",
    "        print(\"City not found. Skipping...\")\n",
    "\n",
    "print(\"-----------------------------\")\n",
    "print(\"Data Retrieval Complete\")\n",
    "print(\"-----------------------------\")"
   ]
  },
  {
   "cell_type": "markdown",
   "metadata": {},
   "source": [
    "Convert the data into a dataframe"
   ]
  },
  {
   "cell_type": "code",
   "execution_count": null,
   "metadata": {},
   "outputs": [],
   "source": [
    "weather_df = pd.DataFrame({ \n",
    "                \"City\" : city_list,\n",
    "                \"Country\" : country_list,\n",
    "                \"Date\" : date_list,\n",
    "                \"Lat\" : lat_list,\n",
    "                \"Lng\" : lng_list,\n",
    "                \"Cloudiness\" : cloudiness_list,\n",
    "                \"Humidity\" : humidity_list,\n",
    "                \"Max Temp\" : maxtemp_list,\n",
    "                \"Wind Speed\" : wind_list\n",
    "})"
   ]
  },
  {
   "cell_type": "code",
   "execution_count": null,
   "metadata": {},
   "outputs": [],
   "source": [
    "weather_df"
   ]
  },
  {
   "cell_type": "markdown",
   "metadata": {},
   "source": [
    "Save the data into a csv"
   ]
  },
  {
   "cell_type": "code",
   "execution_count": null,
   "metadata": {},
   "outputs": [],
   "source": [
    "weather_df.to_csv(\"output_data/cities.csv\", index = False)"
   ]
  },
  {
   "cell_type": "markdown",
   "metadata": {},
   "source": [
    "Plot Data and save images to Graphs folder"
   ]
  },
  {
   "cell_type": "code",
   "execution_count": null,
   "metadata": {},
   "outputs": [],
   "source": [
    "# Create Latitude vs. Cloudiness Scatter\n",
    "\n",
    "plt.scatter(weather_df[\"Lat\"], weather_df[\"Cloudiness\"], facecolor = \"blue\", edgecolor = \"black\")\n",
    "\n",
    "\n",
    "\n",
    "# Set title\n",
    "\n",
    "plt.title(\"City Latitude vs. Cloudiness\")\n",
    "\n",
    "\n",
    "# Set x axis label\n",
    "\n",
    "plt.xlabel(\"Latitude\")\n",
    "\n",
    "\n",
    "# Set y axis label\n",
    "\n",
    "plt.ylabel(\"Cloudiness (%)\")\n",
    "\n",
    "\n",
    "# Set y axis limit\n",
    "\n",
    "plt.ylim(-5,105)\n",
    "\n",
    "\n",
    "# Set grid line\n",
    "\n",
    "plt.grid(linestyle='-', linewidth=1, alpha = 0.5)\n",
    "\n",
    "\n",
    "# Save the plotted figure as .pngs\n",
    "\n",
    "plt.savefig(\"../Graphs/City Latitude vs Cloudiness\")"
   ]
  },
  {
   "cell_type": "code",
   "execution_count": null,
   "metadata": {},
   "outputs": [],
   "source": [
    "# Create Latitude vs. Humidity Scatter\n",
    "\n",
    "plt.scatter(weather_df[\"Lat\"], weather_df[\"Humidity\"], facecolor = \"blue\", edgecolor = \"black\")\n",
    "\n",
    "\n",
    "\n",
    "# Set title\n",
    "\n",
    "plt.title(\"City Latitude vs. Humidity\")\n",
    "\n",
    "\n",
    "# Set x axis label\n",
    "\n",
    "plt.xlabel(\"Latitude\")\n",
    "\n",
    "\n",
    "# Set y axis label\n",
    "\n",
    "plt.ylabel(\"Humidity (%)\")\n",
    "\n",
    "\n",
    "# Set y axis limit\n",
    "\n",
    "plt.ylim(-5,105)\n",
    "\n",
    "\n",
    "# Set grid line\n",
    "\n",
    "plt.grid(linestyle='-', linewidth=1, alpha = 0.5)\n",
    "\n",
    "\n",
    "# Save the plotted figure as .pngs\n",
    "\n",
    "plt.savefig(\"../Graphs/City Latitude vs Humidity\")"
   ]
  },
  {
   "cell_type": "code",
   "execution_count": null,
   "metadata": {},
   "outputs": [],
   "source": [
    "# Create Latitude vs. Max Temperature Scatter\n",
    "\n",
    "plt.scatter(weather_df[\"Lat\"], weather_df[\"Max Temp\"], facecolor = \"blue\", edgecolor = \"black\")\n",
    "\n",
    "\n",
    "\n",
    "# Set title\n",
    "\n",
    "plt.title(\"City Latitude vs. Max Temperature\")\n",
    "\n",
    "\n",
    "# Set x axis label\n",
    "\n",
    "plt.xlabel(\"Latitude\")\n",
    "\n",
    "\n",
    "# Set y axis label\n",
    "\n",
    "plt.ylabel(\"Max Temperature (F)\")\n",
    "\n",
    "\n",
    "# Set y axis limit\n",
    "\n",
    "plt.ylim(-5,105)\n",
    "\n",
    "\n",
    "# Set grid line\n",
    "\n",
    "plt.grid(linestyle='-', linewidth=1, alpha = 0.5)\n",
    "\n",
    "\n",
    "# Save the plotted figure as .pngs\n",
    "\n",
    "plt.savefig(\"../Graphs/City Latitude vs Max Temperature\")"
   ]
  },
  {
   "cell_type": "code",
   "execution_count": null,
   "metadata": {},
   "outputs": [],
   "source": [
    "# Create Latitude vs. Wind Speed Scatter\n",
    "\n",
    "plt.scatter(weather_df[\"Lat\"], weather_df[\"Wind Speed\"], facecolor = \"blue\", edgecolor = \"black\")\n",
    "\n",
    "\n",
    "\n",
    "# Set title\n",
    "\n",
    "plt.title(\"City Latitude vs. Wind Speed\")\n",
    "\n",
    "\n",
    "# Set x axis label\n",
    "\n",
    "plt.xlabel(\"Latitude\")\n",
    "\n",
    "\n",
    "# Set y axis label\n",
    "\n",
    "plt.ylabel(\"Wind Speed (mph)\")\n",
    "\n",
    "\n",
    "# Set y axis limit\n",
    "\n",
    "plt.ylim(-5,50)\n",
    "\n",
    "\n",
    "# Set grid line\n",
    "\n",
    "plt.grid(linestyle='-', linewidth=1, alpha = 0.5)\n",
    "\n",
    "\n",
    "# Save the plotted figure as .pngs\n",
    "\n",
    "plt.savefig(\"../Graphs/City Latitude vs Wind Speed\")"
   ]
  },
  {
   "cell_type": "code",
   "execution_count": null,
   "metadata": {},
   "outputs": [],
   "source": [
    "# Create Northern and Southern Hemisphere DataFrames\n",
    "north_hemi = weather_df.loc[weather_df[\"Lat\"] >= 0]\n",
    "south_hemi = weather_df.loc[weather_df[\"Lat\"] < 0]"
   ]
  },
  {
   "cell_type": "code",
   "execution_count": null,
   "metadata": {},
   "outputs": [],
   "source": [
    "# Define function for linear regression and scatter plot\n",
    "\n",
    "\n",
    "def linear_regression(x,y):\n",
    "    print(f\"The r-squared is : {round(st.pearsonr(x, y)[0],2)}\")\n",
    "    (slope, intercept, rvalue, pvalue, stderr) = linregress(x, y)\n",
    "    regression_values = x * slope + intercept\n",
    "    line_eq = \"y = \" + str(round(slope,2)) + \"x + \" + str(round(intercept,2))\n",
    "    plt.scatter(x, y)\n",
    "    plt.plot(x, regression_values,\"r-\")\n",
    "    return line_eq\n",
    "\n",
    "\n",
    "# Define a function for annotation\n",
    "\n",
    "\n",
    "def annotate(line_eq, a, b):\n",
    "    plt.annotate(line_eq,(a,b),fontsize=15,color=\"red\")"
   ]
  },
  {
   "cell_type": "markdown",
   "metadata": {},
   "source": [
    "Northern Cloudiness Regression"
   ]
  },
  {
   "cell_type": "code",
   "execution_count": null,
   "metadata": {},
   "outputs": [],
   "source": [
    "#Call Functions\n",
    "\n",
    "equation = linear_regression(north_hemi[\"Lat\"], north_hemi[\"Cloudiness\"])\n",
    "\n",
    "annotate(equation, 25, 45)\n",
    "\n",
    "\n",
    "# title\n",
    "\n",
    "plt.title(\"Northern Hemisphere - Cloudiness (%) vs. Latitude Linear Regression\")\n",
    "\n",
    "\n",
    "# xlabel\n",
    "\n",
    "plt.xlabel(\"Latitude\")\n",
    "\n",
    "\n",
    "# ylabel\n",
    "\n",
    "plt.ylabel(\"Cloudiness (%)\")\n",
    "\n",
    "\n",
    "# Save image\n",
    "\n",
    "plt.savefig(\"../Graphs/Northern Hemisphere Cloudiness Linear Regression.png\")"
   ]
  },
  {
   "cell_type": "markdown",
   "metadata": {},
   "source": [
    "Southern Cloudiness Regression"
   ]
  },
  {
   "cell_type": "code",
   "execution_count": null,
   "metadata": {},
   "outputs": [],
   "source": [
    "#Call Functions\n",
    "\n",
    "equation = linear_regression(south_hemi[\"Lat\"], south_hemi[\"Cloudiness\"])\n",
    "\n",
    "annotate(equation, -50, 40)\n",
    "\n",
    "\n",
    "# title\n",
    "\n",
    "plt.title(\"Southern Hemisphere - Cloudiness (%) vs. Latitude Linear Regression\")\n",
    "\n",
    "\n",
    "# xlabel\n",
    "\n",
    "plt.xlabel(\"Latitude\")\n",
    "\n",
    "\n",
    "# ylabel\n",
    "\n",
    "plt.ylabel(\"Cloudiness (%)\")\n",
    "\n",
    "\n",
    "# Save image\n",
    "\n",
    "plt.savefig(\"../Graphs/Southern Hemisphere Cloudiness Linear Regression.png\")"
   ]
  },
  {
   "cell_type": "markdown",
   "metadata": {},
   "source": [
    "Northern Humidity Regression"
   ]
  },
  {
   "cell_type": "code",
   "execution_count": null,
   "metadata": {},
   "outputs": [],
   "source": [
    "#Call Functions\n",
    "\n",
    "equation = linear_regression(north_hemi[\"Lat\"], north_hemi[\"Humidity\"])\n",
    "\n",
    "annotate(equation, 40, 0)\n",
    "\n",
    "\n",
    "# title\n",
    "\n",
    "plt.title(\"Northern Hemisphere - Humidity (%) vs. Latitude Linear Regression\")\n",
    "\n",
    "\n",
    "# xlabel\n",
    "\n",
    "plt.xlabel(\"Latitude\")\n",
    "\n",
    "\n",
    "# ylabel\n",
    "\n",
    "plt.ylabel(\"Humidity (%)\")\n",
    "\n",
    "\n",
    "# Save image\n",
    "\n",
    "plt.savefig(\"../Graphs/Northern Hemisphere Humidity Linear Regression.png\")"
   ]
  },
  {
   "cell_type": "markdown",
   "metadata": {},
   "source": [
    "Southern Humidity Regression"
   ]
  },
  {
   "cell_type": "code",
   "execution_count": null,
   "metadata": {},
   "outputs": [],
   "source": [
    "#Call Functions\n",
    "\n",
    "equation = linear_regression(south_hemi[\"Lat\"], south_hemi[\"Humidity\"])\n",
    "\n",
    "annotate(equation, -50, 20)\n",
    "\n",
    "\n",
    "# title\n",
    "\n",
    "plt.title(\"Southern Hemisphere - Humidity (%) vs. Latitude Linear Regression\")\n",
    "\n",
    "\n",
    "# xlabel\n",
    "\n",
    "plt.xlabel(\"Latitude\")\n",
    "\n",
    "\n",
    "# ylabel\n",
    "\n",
    "plt.ylabel(\"Humidity (%)\")\n",
    "\n",
    "\n",
    "# Save image\n",
    "\n",
    "plt.savefig(\"../Graphs/Southern Hemisphere Humidity Linear Regression.png\")"
   ]
  },
  {
   "cell_type": "markdown",
   "metadata": {},
   "source": [
    "Northern Max Temp Regression"
   ]
  },
  {
   "cell_type": "code",
   "execution_count": null,
   "metadata": {},
   "outputs": [],
   "source": [
    "#Call Functions\n",
    "\n",
    "equation = linear_regression(north_hemi[\"Lat\"], north_hemi[\"Max Temp\"])\n",
    "\n",
    "annotate(equation, 0, 25)\n",
    "\n",
    "\n",
    "# title\n",
    "\n",
    "plt.title(\"Northern Hemisphere - Max Temp (F) vs. Latitude Linear Regression\")\n",
    "\n",
    "\n",
    "# xlabel\n",
    "\n",
    "plt.xlabel(\"Latitude\")\n",
    "\n",
    "\n",
    "# ylabel\n",
    "\n",
    "plt.ylabel(\"Max Temp (F)\")\n",
    "\n",
    "\n",
    "# Save image\n",
    "\n",
    "plt.savefig(\"../Graphs/Northern Hemisphere Max Temp Linear Regression.png\")"
   ]
  },
  {
   "cell_type": "markdown",
   "metadata": {},
   "source": [
    "Southern Max Temp Regression"
   ]
  },
  {
   "cell_type": "code",
   "execution_count": null,
   "metadata": {},
   "outputs": [],
   "source": [
    "#Call Functions\n",
    "\n",
    "equation = linear_regression(south_hemi[\"Lat\"], south_hemi[\"Max Temp\"])\n",
    "\n",
    "annotate(equation, -50, 90)\n",
    "\n",
    "\n",
    "# title\n",
    "\n",
    "plt.title(\"Southern Hemisphere - Max Temp (F) vs. Latitude Linear Regression\")\n",
    "\n",
    "\n",
    "# xlabel\n",
    "\n",
    "plt.xlabel(\"Latitude\")\n",
    "\n",
    "\n",
    "# ylabel\n",
    "\n",
    "plt.ylabel(\"Max Temp (F)\")\n",
    "\n",
    "\n",
    "# Save image\n",
    "\n",
    "plt.savefig(\"../Graphs/Southern Hemisphere Max Temp Linear Regression.png\")"
   ]
  },
  {
   "cell_type": "markdown",
   "metadata": {},
   "source": [
    "Northern Wind Speed Regression"
   ]
  },
  {
   "cell_type": "code",
   "execution_count": null,
   "metadata": {},
   "outputs": [],
   "source": [
    "#Call Functions\n",
    "\n",
    "equation = linear_regression(north_hemi[\"Lat\"], north_hemi[\"Wind Speed\"])\n",
    "\n",
    "annotate(equation, 0, 40)\n",
    "\n",
    "\n",
    "# title\n",
    "\n",
    "plt.title(\"Northern Hemisphere - Wind Speed (mph) vs. Latitude Linear Regression\")\n",
    "\n",
    "\n",
    "# xlabel\n",
    "\n",
    "plt.xlabel(\"Latitude\")\n",
    "\n",
    "\n",
    "# ylabel\n",
    "\n",
    "plt.ylabel(\"Wind Speed (mph)\")\n",
    "\n",
    "\n",
    "# Save image\n",
    "\n",
    "plt.savefig(\"../Graphs/Northern Hemisphere Wind Speed Linear Regression.png\")"
   ]
  },
  {
   "cell_type": "markdown",
   "metadata": {},
   "source": [
    "Southern Wind Speed Regression"
   ]
  },
  {
   "cell_type": "code",
   "execution_count": null,
   "metadata": {},
   "outputs": [],
   "source": [
    "#Call Functions\n",
    "\n",
    "equation = linear_regression(south_hemi[\"Lat\"], south_hemi[\"Wind Speed\"])\n",
    "\n",
    "annotate(equation, -30, 30)\n",
    "\n",
    "\n",
    "# title\n",
    "\n",
    "plt.title(\"Southern Hemisphere - Wind Speed (mph) vs. Latitude Linear Regression\")\n",
    "\n",
    "\n",
    "# xlabel\n",
    "\n",
    "plt.xlabel(\"Latitude\")\n",
    "\n",
    "\n",
    "# ylabel\n",
    "\n",
    "plt.ylabel(\"Wind Speed (mph)\")\n",
    "\n",
    "\n",
    "# Save image\n",
    "\n",
    "plt.savefig(\"../Graphs/Southern Hemisphere Wind Speed Linear Regression.png\")"
   ]
  },
  {
   "cell_type": "code",
   "execution_count": null,
   "metadata": {},
   "outputs": [],
   "source": []
  }
 ],
 "metadata": {
  "kernelspec": {
   "display_name": "Python 3",
   "language": "python",
   "name": "python3"
  },
  "language_info": {
   "codemirror_mode": {
    "name": "ipython",
    "version": 3
   },
   "file_extension": ".py",
   "mimetype": "text/x-python",
   "name": "python",
   "nbconvert_exporter": "python",
   "pygments_lexer": "ipython3",
   "version": "3.6.10"
  }
 },
 "nbformat": 4,
 "nbformat_minor": 4
}
